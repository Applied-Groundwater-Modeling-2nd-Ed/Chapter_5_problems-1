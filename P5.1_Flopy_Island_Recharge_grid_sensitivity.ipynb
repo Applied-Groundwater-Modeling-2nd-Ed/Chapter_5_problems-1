{
 "cells": [
  {
   "cell_type": "markdown",
   "metadata": {},
   "source": [
    "<img src=\"AW&H2015.tiff\" style=\"float: left\">\n",
    "\n",
    "<img src=\"flopylogo.png\" style=\"float: center\">\n",
    "\n",
    "# Problem P5.1 Island Recharge Grid Sensitivity\n",
    "\n",
    "In Problem P5.1 from pages 244-245 in Anderson, Woessner and Hunt (2015), we are asked to construct an areal 2D model to assess impacts of grid sensitivity on pumping.  Develop a 2D areal model using Flopy to solve for heads in the upper right-hand quadrant of the island shown in Fig. P5.1. The aquifer is confined, homogeneous, and isotropic with transmissivity, T, equal to 10,000 ft2/day. Recharge, R, occurs uniformly through a leaky confining bed at a rate of 0.00305 ft/day. The half-width of the island, l, is 12,000 ft. The head at the perimeter of the island is at sea level (use h = 0 ft). The heads are symmetric across the groundwater divides that separate the island into four quadrants (Fig. P5.1). Use a point-centered FD grid so that the node at the observation well in the center of the island (Fig. P5.1) is located directly on the groundwater divides that form the lefthand side and lower boundary of the quadrant model.\n",
    "\n",
    "<img src=\"P5.1_figure.tiff\" style=\"float: center\">\n",
    "\n",
    "Include a water budget in your model. The inflow to the model is the volume of water entering from recharge. In this notebook, we will work through the problem again using MODFLOW and the Python tool set Flopy. Notice how much code is reused from previous examples.  Note also, P5.1 gives directions for calculating the waterbudget; because in this exercise we are using MODFLOW it handles all water budget calculations for us.  \n",
    "\n",
    "\n",
    "## Part a.\n",
    "Write the mathematical model for this problem including the governing equation and boundary conditions of the quadrant model.\n",
    "\n",
    "## Part b.\n",
    "Solve the model using an error tolerance equal to 1E-4 ft and test two designs\n",
    "for the nodal network: (1) a 4 x 7 array of nodes (delta x = delta y = 4000 ft); (2) a\n",
    "13 x 25 array of nodes (delta x = delta y= 1000 ft). For each nodal network, print out the head solution to the fourth decimal place.\n",
    "\n",
    "Below is an iPython Notebook that builds a Python MODFLOW model for this problem and plots results. See the Github wiki associated with this Chapter for information on one suggested installation and setup configuration for Python and iPython Notebook.\n",
    "\n",
    "[Acknowledgements: This tutorial was created by Randy Hunt and all failings are mine.  The exercise here has benefited greatly from the online Flopy tutorial and example notebooks developed by Chris Langevin and Joe Hughes for the USGS Spring 2015 Python Training course GW1774]"
   ]
  },
  {
   "cell_type": "markdown",
   "metadata": {},
   "source": [
    "## Creating the Model\n",
    "In this example, we will create a simple groundwater flow modelusing the Flopy website approach. Visit the tutorial website [here](http://modflowpy.github.io/flopydoc/tutorial1.html \"tutorial\")."
   ]
  },
  {
   "cell_type": "markdown",
   "metadata": {},
   "source": [
    "### Setup the Notebook Environment and Import Flopy\n",
    "Load a few standard libraries, and then load flopy."
   ]
  },
  {
   "cell_type": "code",
   "execution_count": 1,
   "metadata": {
    "collapsed": true
   },
   "outputs": [],
   "source": [
    "%matplotlib inline\n",
    "import sys\n",
    "import os\n",
    "import shutil\n",
    "import numpy as np\n",
    "from subprocess import check_output\n",
    "\n",
    "# Import flopy\n",
    "import flopy"
   ]
  },
  {
   "cell_type": "markdown",
   "metadata": {},
   "source": [
    "### Setup a New Directory and Change Paths\n",
    "For this tutorial, we will work in a new subdirectory underneath the directory where the notebook is located. We can use some fancy Python tools to help us manage the directory creation. Note that if you encounter path problems with this workbook, you can stop and then restart the kernel and the paths will be reset."
   ]
  },
  {
   "cell_type": "code",
   "execution_count": 2,
   "metadata": {
    "collapsed": false
   },
   "outputs": [
    {
     "name": "stdout",
     "output_type": "stream",
     "text": [
      "Name of model path:  /Users/rjhunt1/GitHub/Chapter_5_problems-1/P5-1_Island_recharge\n",
      "Creating model working directory.\n"
     ]
    }
   ],
   "source": [
    "# Set the name of the path to the model working directory\n",
    "dirname = \"P5-1_Island_recharge\"\n",
    "datapath = os.getcwd()\n",
    "modelpath = os.path.join(datapath, dirname)\n",
    "print 'Name of model path: ', modelpath\n",
    "\n",
    "# Now let's check if this directory exists.  If not, then we will create it.\n",
    "if os.path.exists(modelpath):\n",
    "    print 'Model working directory already exists.'\n",
    "else:\n",
    "    print 'Creating model working directory.'\n",
    "    os.mkdir(modelpath)"
   ]
  },
  {
   "cell_type": "markdown",
   "metadata": {},
   "source": [
    "### Define the Model Extent, Grid Resolution, and Characteristics\n",
    "It is normally good practice to group things that you might want to change into a single code block.  This makes it easier to make changes and rerun the code."
   ]
  },
  {
   "cell_type": "code",
   "execution_count": 3,
   "metadata": {
    "collapsed": false
   },
   "outputs": [
    {
     "name": "stdout",
     "output_type": "stream",
     "text": [
      "DELR = 4000.0   DELC = 4000.0   DELV = 50.0\n",
      "BOTM = [  0. -50.]\n",
      "Recharge = 0.00305\n"
     ]
    }
   ],
   "source": [
    "# model domain and grid definition\n",
    "# for clarity, user entered variables are all caps; python syntax are lower case or mixed case\n",
    "# This is an areal 2D model that uses island symmetry to reduce the grid size.\n",
    "LX = 16000.   # half width of island + one node for constant head boundary condition\n",
    "LY = 28000.   # half height of island + one node for constant head boundary condition\n",
    "ZTOP = 0.  # the system is confined \n",
    "ZBOT = -50.\n",
    "NLAY = 1\n",
    "NROW = 7\n",
    "NCOL = 4\n",
    "DELR = LX / NCOL  # recall that MODFLOW convention is DELR is along a row, thus has items = NCOL; see page XXX in AW&H (2015)\n",
    "DELC = LY / NROW  # recall that MODFLOW convention is DELC is along a column, thus has items = NROW; see page XXX in AW&H (2015)\n",
    "DELV = (ZTOP - ZBOT) / NLAY\n",
    "BOTM = np.linspace(ZTOP, ZBOT, NLAY + 1)\n",
    "HK = 200.\n",
    "VKA = 1.\n",
    "RCH = 0.00305 \n",
    "# WELLQ = 0.   #not needed for Problem 5.1\n",
    "print \"DELR =\", DELR, \"  DELC =\", DELC, '  DELV =', DELV\n",
    "print \"BOTM =\", BOTM\n",
    "print \"Recharge =\", RCH \n",
    "#print \"Pumping well rate =\", WELLQ\n"
   ]
  },
  {
   "cell_type": "markdown",
   "metadata": {},
   "source": [
    "### Create the MODFLOW Model Object\n",
    "Create a flopy MODFLOW object: [flopy.modflow.Modflow](http://modflowpy.github.io/flopydoc/mf.html)."
   ]
  },
  {
   "cell_type": "code",
   "execution_count": 4,
   "metadata": {
    "collapsed": false
   },
   "outputs": [
    {
     "name": "stdout",
     "output_type": "stream",
     "text": [
      "Model executable:  /Users/rjhunt1/GitHub/Chapter_5_problems-1/mf2005\n"
     ]
    }
   ],
   "source": [
    "# Assign name and create modflow model object\n",
    "modelname = 'P5-1'\n",
    "#exe_name = os.path.join(datapath, 'mf2005.exe') # for Windows OS\n",
    "exe_name = os.path.join(datapath, 'mf2005')     # for Mac OS\n",
    "print 'Model executable: ', exe_name\n",
    "MF = flopy.modflow.Modflow(modelname, exe_name=exe_name, model_ws=modelpath)"
   ]
  },
  {
   "cell_type": "markdown",
   "metadata": {},
   "source": [
    "### Discretization Package\n",
    "Create a flopy discretization package object: [flopy.modflow.ModflowDis](http://modflowpy.github.io/flopydoc/mfdis.html)."
   ]
  },
  {
   "cell_type": "code",
   "execution_count": 5,
   "metadata": {
    "collapsed": true
   },
   "outputs": [],
   "source": [
    "# Create the discretization object\n",
    "TOP = ZTOP * np.ones((NROW, NCOL),dtype=np.float)"
   ]
  },
  {
   "cell_type": "code",
   "execution_count": 6,
   "metadata": {
    "collapsed": true
   },
   "outputs": [],
   "source": [
    "DIS_PACKAGE = flopy.modflow.ModflowDis(MF, NLAY, NROW, NCOL, delr=DELR, delc=DELC,\n",
    "                               top=TOP, botm=BOTM[1:], laycbd=0)\n",
    "# print DIS_PACKAGE  #uncomment this on far left to see information about the flopy object"
   ]
  },
  {
   "cell_type": "markdown",
   "metadata": {},
   "source": [
    "### Basic Package\n",
    "Create a flopy basic package object: [flopy.modflow.ModflowBas](http://modflowpy.github.io/flopydoc/mfbas.html)."
   ]
  },
  {
   "cell_type": "code",
   "execution_count": 7,
   "metadata": {
    "collapsed": false
   },
   "outputs": [
    {
     "name": "stdout",
     "output_type": "stream",
     "text": [
      "[[[-1 -1 -1 -1]\n",
      "  [-1  1  1  1]\n",
      "  [-1  1  1  1]\n",
      "  [-1  1  1  1]\n",
      "  [-1  1  1  1]\n",
      "  [-1  1  1  1]\n",
      "  [-1  1  1  1]]]\n"
     ]
    }
   ],
   "source": [
    "# Variables for the BAS package\n",
    "IBOUND = np.ones((NLAY, NROW, NCOL), dtype=np.int32)  # all nodes are active (IBOUND = 1)\n",
    "\n",
    "# make the top of the profile specified head by setting the IBOUND = -1\n",
    "IBOUND[:, 0, :] = -1  #don't forget arrays are zero-based! Sets first row\n",
    "IBOUND[:, :, 0] = -1  # Sets first column\n",
    "print IBOUND"
   ]
  },
  {
   "cell_type": "code",
   "execution_count": 8,
   "metadata": {
    "collapsed": false
   },
   "outputs": [
    {
     "name": "stdout",
     "output_type": "stream",
     "text": [
      "[[[ 0.  0.  0.  0.]\n",
      "  [ 0.  1.  1.  1.]\n",
      "  [ 0.  1.  1.  1.]\n",
      "  [ 0.  1.  1.  1.]\n",
      "  [ 0.  1.  1.  1.]\n",
      "  [ 0.  1.  1.  1.]\n",
      "  [ 0.  1.  1.  1.]]]\n"
     ]
    }
   ],
   "source": [
    "STRT = 1 * np.ones((NLAY, NROW, NCOL), dtype=np.float32)  # set starting head to 1` through out model domain\n",
    "STRT[:, 0, :] = 0.       # top row ocean elevation for setting constant head\n",
    "STRT[:, :, 0] = 0.     # first column ocean elevation for setting constant head\n",
    "print STRT"
   ]
  },
  {
   "cell_type": "code",
   "execution_count": 9,
   "metadata": {
    "collapsed": false
   },
   "outputs": [],
   "source": [
    "BAS_PACKAGE = flopy.modflow.ModflowBas(MF, ibound=IBOUND, strt=STRT)\n",
    "# print BAS_PACKAGE  # uncomment this at far left to see the information about the flopy BAS object"
   ]
  },
  {
   "cell_type": "markdown",
   "metadata": {},
   "source": [
    "### Layer Property Flow Package\n",
    "Create a flopy layer property flow package object: [flopy.modflow.ModflowLpf](http://modflowpy.github.io/flopydoc/mflpf.html)."
   ]
  },
  {
   "cell_type": "code",
   "execution_count": 10,
   "metadata": {
    "collapsed": false
   },
   "outputs": [],
   "source": [
    "LPF_PACKAGE = flopy.modflow.ModflowLpf(MF, laytyp=1, hk=HK, vka=VKA)  # we defined the K and anisotropy at top of file\n",
    "# print LPF_PACKAGE  # uncomment this at far left to see the information about the flopy LPF object"
   ]
  },
  {
   "cell_type": "markdown",
   "metadata": {},
   "source": [
    "### Well Package\n",
    "This is not needed for Problem P5.1"
   ]
  },
  {
   "cell_type": "code",
   "execution_count": 11,
   "metadata": {
    "collapsed": false
   },
   "outputs": [],
   "source": [
    "#WEL_PACKAGE = flopy.modflow.ModflowWel(MF, stress_period_data=[0,0,0,WELLQ])  # remember python 0 index, layer 0 = layer 1 in MF\n",
    "#print WEL_PACKAGE  # uncomment this at far left to see the information about the flopy WEL object"
   ]
  },
  {
   "cell_type": "markdown",
   "metadata": {},
   "source": [
    "### Output Control\n",
    "Create a flopy output control object: [flopy.modflow.ModflowOc](http://modflowpy.github.io/flopydoc/mfoc.html)."
   ]
  },
  {
   "cell_type": "code",
   "execution_count": 12,
   "metadata": {
    "collapsed": false
   },
   "outputs": [],
   "source": [
    "OC_PACKAGE = flopy.modflow.ModflowOc(MF)   # we'll use the defaults for the model output\n",
    "# print OC_PACKAGE  # uncomment this at far left to see the information about the flopy OC object"
   ]
  },
  {
   "cell_type": "markdown",
   "metadata": {},
   "source": [
    "### Preconditioned Conjugate Gradient Solver\n",
    "Create a flopy pcg package object: [flopy.modflow.ModflowPcg](http://modflowpy.github.io/flopydoc/mfpcg.html)."
   ]
  },
  {
   "cell_type": "code",
   "execution_count": 13,
   "metadata": {
    "collapsed": false
   },
   "outputs": [],
   "source": [
    "PCG_PACKAGE = flopy.modflow.ModflowPcg(MF, mxiter=500, iter1=100, hclose=1e-04, rclose=1e-03, relax=0.98, damp=0.5) \n",
    "# print PCG_PACKAGE  # uncomment this at far left to see the information about the flopy PCG object"
   ]
  },
  {
   "cell_type": "markdown",
   "metadata": {},
   "source": [
    "### Recharge Package\n",
    "Create a flopy pcg package object: [flopy.modflow.ModflowRch](http://modflowpy.github.io/flopydoc/mfrch.html)."
   ]
  },
  {
   "cell_type": "code",
   "execution_count": 14,
   "metadata": {
    "collapsed": false
   },
   "outputs": [],
   "source": [
    "RCH_PACKAGE = flopy.modflow.ModflowRch(MF, rech=RCH)\n",
    "# print RCH_PACKAGE  # uncomment this at far left to see the information about the flopy RCH object"
   ]
  },
  {
   "cell_type": "markdown",
   "metadata": {},
   "source": [
    "## Writing the MODFLOW Input Files\n",
    "Before we create the model input datasets, we can do some directory cleanup to make sure that we don't accidently use old files."
   ]
  },
  {
   "cell_type": "code",
   "execution_count": 15,
   "metadata": {
    "collapsed": false
   },
   "outputs": [
    {
     "name": "stdout",
     "output_type": "stream",
     "text": [
      "/Users/rjhunt1/GitHub/Chapter_5_problems-1/P5-1_Island_recharge\n",
      "[]\n"
     ]
    }
   ],
   "source": [
    "#Before writing input, destroy all files in folder to prevent reusing old files\n",
    "#Here's the working directory\n",
    "print modelpath\n",
    "#Here's what's currently in the working directory\n",
    "modelfiles = os.listdir(modelpath)\n",
    "print modelfiles"
   ]
  },
  {
   "cell_type": "code",
   "execution_count": 16,
   "metadata": {
    "collapsed": false
   },
   "outputs": [],
   "source": [
    "#delete these files to prevent us from reading old results\n",
    "modelfiles = os.listdir(modelpath)\n",
    "for filename in modelfiles:\n",
    "    f = os.path.join(modelpath, filename)\n",
    "    if modelname in f:\n",
    "        try:\n",
    "            os.remove(f)\n",
    "            print 'Deleted: ', filename\n",
    "        except:\n",
    "            print 'Unable to delete: ', filename"
   ]
  },
  {
   "cell_type": "code",
   "execution_count": 17,
   "metadata": {
    "collapsed": true
   },
   "outputs": [],
   "source": [
    "#Now write the model input files\n",
    "MF.write_input()"
   ]
  },
  {
   "cell_type": "markdown",
   "metadata": {},
   "source": [
    "The model datasets are written using a single command (mf.write_input)."
   ]
  },
  {
   "cell_type": "markdown",
   "metadata": {},
   "source": [
    "Check in the model working directory and verify that the input files have been created.  Or if you might just add another cell, right after this one, that prints a list of all the files in our model directory.  The path we are working in is returned from this next block."
   ]
  },
  {
   "cell_type": "code",
   "execution_count": 18,
   "metadata": {
    "collapsed": false
   },
   "outputs": [
    {
     "name": "stdout",
     "output_type": "stream",
     "text": [
      "You can check the newly created files in /Users/rjhunt1/GitHub/Chapter_5_problems-1/P5-1_Island_recharge\n"
     ]
    }
   ],
   "source": [
    "# return current working directory\n",
    "print \"You can check the newly created files in\", modelpath\n"
   ]
  },
  {
   "cell_type": "markdown",
   "metadata": {},
   "source": [
    "## Running the Model\n",
    "\n",
    "Flopy has several methods attached to the model object that can be used to run the model.  They are run_model, run_model2, and run_model3.  Here we use run_model3, which will write output to the notebook."
   ]
  },
  {
   "cell_type": "code",
   "execution_count": 19,
   "metadata": {
    "collapsed": false
   },
   "outputs": [
    {
     "name": "stdout",
     "output_type": "stream",
     "text": [
      "FloPy is using the following executable to run the model: /Users/rjhunt1/GitHub/Chapter_5_problems-1/mf2005\n",
      "\n",
      "                                  MODFLOW-2005     \n",
      "    U.S. GEOLOGICAL SURVEY MODULAR FINITE-DIFFERENCE GROUND-WATER FLOW MODEL\n",
      "                             Version 1.11.00 8/8/2013                        \n",
      "\n",
      " Using NAME file: P5-1.nam \n",
      " Run start date and time (yyyy/mm/dd hh:mm:ss): 2015/09/23 12:59:28\n",
      "\n",
      " Solving:  Stress period:     1    Time step:     1    Ground-Water Flow Eqn.\n",
      " Run end date and time (yyyy/mm/dd hh:mm:ss): 2015/09/23 12:59:28\n",
      " Elapsed run time:  0.003 Seconds\n",
      "\n",
      "  Normal termination of simulation\n"
     ]
    }
   ],
   "source": [
    "silent = False  #Print model output to screen?\n",
    "pause = False   #Require user to hit enter? Doesn't mean much in Ipython notebook\n",
    "report = True   #Store the output from the model in buff\n",
    "success, buff = MF.run_model(silent=silent, pause=pause, report=report)"
   ]
  },
  {
   "cell_type": "markdown",
   "metadata": {},
   "source": [
    "## Post Processing the Results\n",
    "To read heads from the MODFLOW binary output file, we can use the [flopy.utils.binaryfile](http://modflowpy.github.io/flopydoc/binaryfile.html) module. Specifically, we can use the HeadFile object from that module to extract head data arrays. "
   ]
  },
  {
   "cell_type": "code",
   "execution_count": 20,
   "metadata": {
    "collapsed": false
   },
   "outputs": [
    {
     "name": "stdout",
     "output_type": "stream",
     "text": [
      "Headfile (P5-1.hds) contains the following list of times:  [1.0]\n"
     ]
    }
   ],
   "source": [
    "#imports for plotting and reading the MODFLOW binary output file\n",
    "import matplotlib.pyplot as plt\n",
    "import flopy.utils.binaryfile as bf\n",
    "\n",
    "#Create the headfile object and grab the results for last time.\n",
    "headfile = os.path.join(modelpath, modelname + '.hds')\n",
    "headfileobj = bf.HeadFile(headfile)\n",
    "\n",
    "#Get a list of times that are contained in the model\n",
    "times = headfileobj.get_times()\n",
    "print 'Headfile (' + modelname + '.hds' + ') contains the following list of times: ', times"
   ]
  },
  {
   "cell_type": "code",
   "execution_count": 21,
   "metadata": {
    "collapsed": false
   },
   "outputs": [
    {
     "name": "stdout",
     "output_type": "stream",
     "text": [
      "Head statistics\n",
      "  min:  0.0\n",
      "  max:  25.7969\n",
      "  std:  9.06476\n"
     ]
    }
   ],
   "source": [
    "#Get a numpy array of heads for totim = 1.0\n",
    "#The get_data method will extract head data from the binary file.\n",
    "HEAD = headfileobj.get_data(totim=1.0)\n",
    "\n",
    "#Print statistics on the head\n",
    "print 'Head statistics'\n",
    "print '  min: ', HEAD.min()\n",
    "print '  max: ', HEAD.max()\n",
    "print '  std: ', HEAD.std()"
   ]
  },
  {
   "cell_type": "code",
   "execution_count": 22,
   "metadata": {
    "collapsed": false
   },
   "outputs": [
    {
     "name": "stdout",
     "output_type": "stream",
     "text": [
      "Contour Levels:  [  0.   5.  10.  15.  20.  25.]\n",
      "Extent of domain:  (2000.0, 14000.0, 2000.0, 26000.0)\n"
     ]
    },
    {
     "data": {
      "image/png": "[encoded data removed]",
      "text/plain": [
       "<matplotlib.figure.Figure at 0x1062b5d90>"
      ]
     },
     "metadata": {},
     "output_type": "display_data"
    }
   ],
   "source": [
    "#Create a contour plot of heads\n",
    "FIG = plt.figure(figsize=(12,10))\n",
    "\n",
    "#setup contour levels and plot extent\n",
    "LEVELS = np.arange(0., 26., 5.)\n",
    "EXTENT = (DELR/2., LX - DELR/2., DELC/2., LY - DELC/2.)\n",
    "print 'Contour Levels: ', LEVELS\n",
    "print 'Extent of domain: ', EXTENT\n",
    "\n",
    "#Make a contour plot on the first axis\n",
    "AX1 = FIG.add_subplot(1, 2, 1, aspect='equal')\n",
    "AX1.set_xlabel(\"x\")\n",
    "AX1.set_ylabel(\"y\")\n",
    "YTICKS = np.arange(0, 28000, 4000)\n",
    "AX1.set_yticks(YTICKS)\n",
    "AX1.set_title(\"P5.1 Island Recharge Problem\")\n",
    "AX1.text(2250, 10000, r\"side ocean boundary condition\", fontsize=10, color=\"blue\", rotation='vertical')\n",
    "AX1.text(5500, 25000, r\"top ocean boundary condition\", fontsize=10, color=\"blue\")\n",
    "AX1.contour(np.flipud(HEAD[0, :, :]), levels=LEVELS, extent=EXTENT)\n",
    "\n",
    "#Make a color flood on the second axis\n",
    "AX2 = FIG.add_subplot(1, 2, 2, aspect='equal')\n",
    "AX2.set_xlabel(\"x\")\n",
    "AX2.set_ylabel(\"y\")\n",
    "AX2.set_yticks(YTICKS)\n",
    "AX2.set_title(\"P5.1 color flood\")\n",
    "AX2.text(5500, 25000, r\"top ocean boundary condition\", fontsize=10, color=\"white\")\n",
    "AX2.text(2500, 10500, r\"side ocean boundary condition\", fontsize=10, color=\"white\", rotation='vertical')\n",
    "cax = AX2.imshow(HEAD[0, :, :], extent=EXTENT, interpolation='nearest')\n",
    "cbar = FIG.colorbar(cax, orientation='vertical', shrink=0.45)\n"
   ]
  },
  {
   "cell_type": "code",
   "execution_count": 23,
   "metadata": {
    "collapsed": false
   },
   "outputs": [
    {
     "name": "stdout",
     "output_type": "stream",
     "text": [
      "[[[  0.           0.           0.           0.        ]\n",
      "  [  0.           5.62512398   8.71148396  10.10727406]\n",
      "  [  0.           8.90901184  14.23354053  16.73033714]\n",
      "  [  0.          10.89738178  17.70332718  20.97019768]\n",
      "  [  0.          12.09718895  19.83218956  23.59692764]\n",
      "  [  0.          12.77918339  21.05131721  25.10839653]\n",
      "  [  0.          13.08822632  21.60549736  25.79694748]]]\n"
     ]
    }
   ],
   "source": [
    "print HEAD"
   ]
  },
  {
   "cell_type": "markdown",
   "metadata": {},
   "source": [
    "Look at the bottom of the MODFLOW output file (ending with a *.list) and write down the water balance reported to compare to the less coarse grid size done in the next part of the problem. "
   ]
  },
  {
   "cell_type": "markdown",
   "metadata": {},
   "source": [
    "## Changing the grid size and rerunning/plotting\n",
    "Recall that the second part of Part b is to redo the problem with a finer grid spacing:  a 13 x 25 array of nodes (delta x = delta y= 1000 ft).\n"
   ]
  },
  {
   "cell_type": "code",
   "execution_count": 24,
   "metadata": {
    "collapsed": false
   },
   "outputs": [
    {
     "name": "stdout",
     "output_type": "stream",
     "text": [
      "DELR = 1000.0   DELC = 1000.0   DELV = 50.0\n",
      "BOTM = [  0. -50.]\n",
      "Recharge = 0.00305\n"
     ]
    }
   ],
   "source": [
    "LX = 13000.   # same as before - half width of island + one node for constant head boundary condition\n",
    "LY = 25000.   # same as before - half height of island + one node for constant head boundary condition\n",
    "NLAY = 1\n",
    "NROW = 25\n",
    "NCOL = 13\n",
    "DELR = LX / NCOL  # recall that MODFLOW convention is DELR is along a row, thus has items = NCOL; see page XXX in AW&H (2015)\n",
    "DELC = LY / NROW  # recall that MODFLOW convention is DELC is along a column, thus has items = NROW; see page XXX in AW&H (2015)\n",
    "DELV = (ZTOP - ZBOT) / NLAY\n",
    "BOTM = np.linspace(ZTOP, ZBOT, NLAY + 1)\n",
    "HK = 200.\n",
    "VKA = 1.\n",
    "RCH = 0.00305 \n",
    "# WELLQ = 0.   #not needed for Problem 5.1\n",
    "print \"DELR =\", DELR, \"  DELC =\", DELC, '  DELV =', DELV\n",
    "print \"BOTM =\", BOTM\n",
    "print \"Recharge =\", RCH "
   ]
  },
  {
   "cell_type": "code",
   "execution_count": 25,
   "metadata": {
    "collapsed": false
   },
   "outputs": [
    {
     "name": "stdout",
     "output_type": "stream",
     "text": [
      "****Warning -- two packages of the same type:  <class 'flopy.modflow.mfdis.ModflowDis'> <class 'flopy.modflow.mfdis.ModflowDis'>\n",
      "replacing existing Package...\n"
     ]
    }
   ],
   "source": [
    "# Create the discretization object\n",
    "TOP = ZTOP * np.ones((NROW, NCOL),dtype=np.float)\n",
    "DIS_PACKAGE = flopy.modflow.ModflowDis(MF, NLAY, NROW, NCOL, delr=DELR, delc=DELC,\n",
    "                               top=TOP, botm=BOTM[1:], laycbd=0)"
   ]
  },
  {
   "cell_type": "code",
   "execution_count": 26,
   "metadata": {
    "collapsed": false
   },
   "outputs": [
    {
     "name": "stdout",
     "output_type": "stream",
     "text": [
      "[[[-1 -1 -1 -1 -1 -1 -1 -1 -1 -1 -1 -1 -1]\n",
      "  [-1  1  1  1  1  1  1  1  1  1  1  1  1]\n",
      "  [-1  1  1  1  1  1  1  1  1  1  1  1  1]\n",
      "  [-1  1  1  1  1  1  1  1  1  1  1  1  1]\n",
      "  [-1  1  1  1  1  1  1  1  1  1  1  1  1]\n",
      "  [-1  1  1  1  1  1  1  1  1  1  1  1  1]\n",
      "  [-1  1  1  1  1  1  1  1  1  1  1  1  1]\n",
      "  [-1  1  1  1  1  1  1  1  1  1  1  1  1]\n",
      "  [-1  1  1  1  1  1  1  1  1  1  1  1  1]\n",
      "  [-1  1  1  1  1  1  1  1  1  1  1  1  1]\n",
      "  [-1  1  1  1  1  1  1  1  1  1  1  1  1]\n",
      "  [-1  1  1  1  1  1  1  1  1  1  1  1  1]\n",
      "  [-1  1  1  1  1  1  1  1  1  1  1  1  1]\n",
      "  [-1  1  1  1  1  1  1  1  1  1  1  1  1]\n",
      "  [-1  1  1  1  1  1  1  1  1  1  1  1  1]\n",
      "  [-1  1  1  1  1  1  1  1  1  1  1  1  1]\n",
      "  [-1  1  1  1  1  1  1  1  1  1  1  1  1]\n",
      "  [-1  1  1  1  1  1  1  1  1  1  1  1  1]\n",
      "  [-1  1  1  1  1  1  1  1  1  1  1  1  1]\n",
      "  [-1  1  1  1  1  1  1  1  1  1  1  1  1]\n",
      "  [-1  1  1  1  1  1  1  1  1  1  1  1  1]\n",
      "  [-1  1  1  1  1  1  1  1  1  1  1  1  1]\n",
      "  [-1  1  1  1  1  1  1  1  1  1  1  1  1]\n",
      "  [-1  1  1  1  1  1  1  1  1  1  1  1  1]\n",
      "  [-1  1  1  1  1  1  1  1  1  1  1  1  1]]]\n"
     ]
    }
   ],
   "source": [
    "# Variables for the BAS package\n",
    "IBOUND = np.ones((NLAY, NROW, NCOL), dtype=np.int32)  # all nodes are active (IBOUND = 1)\n",
    "\n",
    "# make the top of the profile specified head by setting the IBOUND = -1\n",
    "IBOUND[:, 0, :] = -1  #don't forget arrays are zero-based! Sets first row\n",
    "IBOUND[:, :, 0] = -1  # Sets first column\n",
    "print IBOUND"
   ]
  },
  {
   "cell_type": "code",
   "execution_count": 27,
   "metadata": {
    "collapsed": false
   },
   "outputs": [
    {
     "name": "stdout",
     "output_type": "stream",
     "text": [
      "[[[ 0.  0.  0.  0.  0.  0.  0.  0.  0.  0.  0.  0.  0.]\n",
      "  [ 0.  1.  1.  1.  1.  1.  1.  1.  1.  1.  1.  1.  1.]\n",
      "  [ 0.  1.  1.  1.  1.  1.  1.  1.  1.  1.  1.  1.  1.]\n",
      "  [ 0.  1.  1.  1.  1.  1.  1.  1.  1.  1.  1.  1.  1.]\n",
      "  [ 0.  1.  1.  1.  1.  1.  1.  1.  1.  1.  1.  1.  1.]\n",
      "  [ 0.  1.  1.  1.  1.  1.  1.  1.  1.  1.  1.  1.  1.]\n",
      "  [ 0.  1.  1.  1.  1.  1.  1.  1.  1.  1.  1.  1.  1.]\n",
      "  [ 0.  1.  1.  1.  1.  1.  1.  1.  1.  1.  1.  1.  1.]\n",
      "  [ 0.  1.  1.  1.  1.  1.  1.  1.  1.  1.  1.  1.  1.]\n",
      "  [ 0.  1.  1.  1.  1.  1.  1.  1.  1.  1.  1.  1.  1.]\n",
      "  [ 0.  1.  1.  1.  1.  1.  1.  1.  1.  1.  1.  1.  1.]\n",
      "  [ 0.  1.  1.  1.  1.  1.  1.  1.  1.  1.  1.  1.  1.]\n",
      "  [ 0.  1.  1.  1.  1.  1.  1.  1.  1.  1.  1.  1.  1.]\n",
      "  [ 0.  1.  1.  1.  1.  1.  1.  1.  1.  1.  1.  1.  1.]\n",
      "  [ 0.  1.  1.  1.  1.  1.  1.  1.  1.  1.  1.  1.  1.]\n",
      "  [ 0.  1.  1.  1.  1.  1.  1.  1.  1.  1.  1.  1.  1.]\n",
      "  [ 0.  1.  1.  1.  1.  1.  1.  1.  1.  1.  1.  1.  1.]\n",
      "  [ 0.  1.  1.  1.  1.  1.  1.  1.  1.  1.  1.  1.  1.]\n",
      "  [ 0.  1.  1.  1.  1.  1.  1.  1.  1.  1.  1.  1.  1.]\n",
      "  [ 0.  1.  1.  1.  1.  1.  1.  1.  1.  1.  1.  1.  1.]\n",
      "  [ 0.  1.  1.  1.  1.  1.  1.  1.  1.  1.  1.  1.  1.]\n",
      "  [ 0.  1.  1.  1.  1.  1.  1.  1.  1.  1.  1.  1.  1.]\n",
      "  [ 0.  1.  1.  1.  1.  1.  1.  1.  1.  1.  1.  1.  1.]\n",
      "  [ 0.  1.  1.  1.  1.  1.  1.  1.  1.  1.  1.  1.  1.]\n",
      "  [ 0.  1.  1.  1.  1.  1.  1.  1.  1.  1.  1.  1.  1.]]]\n"
     ]
    }
   ],
   "source": [
    "STRT = 1 * np.ones((NLAY, NROW, NCOL), dtype=np.float32)  # set starting head to 1` through out model domain\n",
    "STRT[:, 0, :] = 0.       # top row ocean elevation for setting constant head\n",
    "STRT[:, :, 0] = 0.     # first column ocean elevation for setting constant head\n",
    "print STRT"
   ]
  },
  {
   "cell_type": "code",
   "execution_count": 28,
   "metadata": {
    "collapsed": false
   },
   "outputs": [
    {
     "name": "stdout",
     "output_type": "stream",
     "text": [
      "****Warning -- two packages of the same type:  <class 'flopy.modflow.mfbas.ModflowBas'> <class 'flopy.modflow.mfbas.ModflowBas'>\n",
      "replacing existing Package...\n"
     ]
    }
   ],
   "source": [
    "BAS_PACKAGE = flopy.modflow.ModflowBas(MF, ibound=IBOUND, strt=STRT)\n",
    "# print BAS_PACKAGE  # uncomment this at far left to see the information about the flopy BAS object"
   ]
  },
  {
   "cell_type": "code",
   "execution_count": 29,
   "metadata": {
    "collapsed": false
   },
   "outputs": [
    {
     "name": "stdout",
     "output_type": "stream",
     "text": [
      "Deleted:  P5-1.bas\n",
      "Deleted:  P5-1.cbc\n",
      "Deleted:  P5-1.ddn\n",
      "Deleted:  P5-1.dis\n",
      "Deleted:  P5-1.hds\n",
      "Deleted:  P5-1.list\n",
      "Deleted:  P5-1.lpf\n",
      "Deleted:  P5-1.nam\n",
      "Deleted:  P5-1.oc\n",
      "Deleted:  P5-1.pcg\n",
      "Deleted:  P5-1.rch\n"
     ]
    }
   ],
   "source": [
    "#delete earlier files to prevent us from reading old results\n",
    "modelfiles = os.listdir(modelpath)\n",
    "for filename in modelfiles:\n",
    "    f = os.path.join(modelpath, filename)\n",
    "    if modelname in f:\n",
    "        try:\n",
    "            os.remove(f)\n",
    "            print 'Deleted: ', filename\n",
    "        except:\n",
    "            print 'Unable to delete: ', filename"
   ]
  },
  {
   "cell_type": "code",
   "execution_count": 30,
   "metadata": {
    "collapsed": false
   },
   "outputs": [
    {
     "name": "stdout",
     "output_type": "stream",
     "text": [
      "You can check the newly created files in /Users/rjhunt1/GitHub/Chapter_5_problems-1/P5-1_Island_recharge\n"
     ]
    }
   ],
   "source": [
    "#Now write the model input files\n",
    "MF.write_input()\n",
    "# return current working directory\n",
    "print \"You can check the newly created files in\", modelpath"
   ]
  },
  {
   "cell_type": "code",
   "execution_count": 31,
   "metadata": {
    "collapsed": false
   },
   "outputs": [
    {
     "name": "stdout",
     "output_type": "stream",
     "text": [
      "FloPy is using the following executable to run the model: /Users/rjhunt1/GitHub/Chapter_5_problems-1/mf2005\n",
      "\n",
      "                                  MODFLOW-2005     \n",
      "    U.S. GEOLOGICAL SURVEY MODULAR FINITE-DIFFERENCE GROUND-WATER FLOW MODEL\n",
      "                             Version 1.11.00 8/8/2013                        \n",
      "\n",
      " Using NAME file: P5-1.nam \n",
      " Run start date and time (yyyy/mm/dd hh:mm:ss): 2015/09/23 12:59:29\n",
      "\n",
      " Solving:  Stress period:     1    Time step:     1    Ground-Water Flow Eqn.\n",
      " Run end date and time (yyyy/mm/dd hh:mm:ss): 2015/09/23 12:59:29\n",
      " Elapsed run time:  0.007 Seconds\n",
      "\n",
      "  Normal termination of simulation\n"
     ]
    }
   ],
   "source": [
    "#Run MODFLOW\n",
    "silent = False  #Print model output to screen?\n",
    "pause = False   #Require user to hit enter? Doesn't mean much in Ipython notebook\n",
    "report = True   #Store the output from the model in buff\n",
    "success, buff = MF.run_model(silent=silent, pause=pause, report=report)"
   ]
  },
  {
   "cell_type": "code",
   "execution_count": 32,
   "metadata": {
    "collapsed": false
   },
   "outputs": [
    {
     "name": "stdout",
     "output_type": "stream",
     "text": [
      "Headfile (P5-1.hds) contains the following list of times:  [1.0]\n",
      "Head statistics\n",
      "  min:  0.0\n",
      "  max:  21.5226\n",
      "  std:  6.71904\n"
     ]
    }
   ],
   "source": [
    "#imports for plotting and reading the MODFLOW binary output file\n",
    "import matplotlib.pyplot as plt\n",
    "import flopy.utils.binaryfile as bf\n",
    "\n",
    "#Create the headfile object and grab the results for last time.\n",
    "headfile = os.path.join(modelpath, modelname + '.hds')\n",
    "headfileobj = bf.HeadFile(headfile)\n",
    "\n",
    "#Get a list of times that are contained in the model\n",
    "times = headfileobj.get_times()\n",
    "print 'Headfile (' + modelname + '.hds' + ') contains the following list of times: ', times\n",
    "#Get a numpy array of heads for totim = 1.0\n",
    "#The get_data method will extract head data from the binary file.\n",
    "HEAD = headfileobj.get_data(totim=1.0)\n",
    "\n",
    "#Print statistics on the head\n",
    "print 'Head statistics'\n",
    "print '  min: ', HEAD.min()\n",
    "print '  max: ', HEAD.max()\n",
    "print '  std: ', HEAD.std()"
   ]
  },
  {
   "cell_type": "code",
   "execution_count": 33,
   "metadata": {
    "collapsed": false
   },
   "outputs": [
    {
     "name": "stdout",
     "output_type": "stream",
     "text": [
      "Contour Levels:  [  0.   5.  10.  15.  20.  25.]\n",
      "Extent of domain:  (500.0, 12500.0, 500.0, 24500.0)\n"
     ]
    },
    {
     "data": {
      "image/png": "[encoded data removed]",
      "text/plain": [
       "<matplotlib.figure.Figure at 0x106655dd0>"
      ]
     },
     "metadata": {},
     "output_type": "display_data"
    }
   ],
   "source": [
    "#Create a contour plot of heads\n",
    "FIG = plt.figure(figsize=(12,10))\n",
    "\n",
    "#setup contour levels and plot extent\n",
    "LEVELS = np.arange(0., 26., 5.)\n",
    "EXTENT = (DELR/2., LX - DELR/2., DELC/2., LY - DELC/2.)\n",
    "print 'Contour Levels: ', LEVELS\n",
    "print 'Extent of domain: ', EXTENT\n",
    "\n",
    "#Make a contour plot on the first axis\n",
    "AX1 = FIG.add_subplot(1, 2, 1, aspect='equal')\n",
    "AX1.set_xlabel(\"x\")\n",
    "AX1.set_ylabel(\"y\")\n",
    "YTICKS = np.arange(0, 28000, 4000)\n",
    "AX1.set_yticks(YTICKS)\n",
    "AX1.set_title(\"P5.1 Island Recharge Problem\")\n",
    "AX1.text(900, 10000, r\"side ocean boundary condition\", fontsize=10, color=\"blue\", rotation='vertical')\n",
    "AX1.text(4000, 23900, r\"top ocean boundary condition\", fontsize=10, color=\"blue\")\n",
    "AX1.contour(np.flipud(HEAD[0, :, :]), levels=LEVELS, extent=EXTENT)\n",
    "\n",
    "#Make a color flood on the second axis\n",
    "AX2 = FIG.add_subplot(1, 2, 2, aspect='equal')\n",
    "AX2.set_xlabel(\"x\")\n",
    "AX2.set_ylabel(\"y\")\n",
    "AX2.set_yticks(YTICKS)\n",
    "AX2.set_title(\"P5.1 color flood\")\n",
    "AX2.text(4000, 23900, r\"top ocean boundary condition\", fontsize=10, color=\"white\")\n",
    "AX2.text(600, 10500, r\"side ocean boundary condition\", fontsize=10, color=\"white\", rotation='vertical')\n",
    "cax = AX2.imshow(HEAD[0, :, :], extent=EXTENT, interpolation='nearest')\n",
    "cbar = FIG.colorbar(cax, orientation='vertical', shrink=0.45)"
   ]
  },
  {
   "cell_type": "code",
   "execution_count": 34,
   "metadata": {
    "collapsed": false
   },
   "outputs": [
    {
     "name": "stdout",
     "output_type": "stream",
     "text": [
      "[[[  0.           0.           0.           0.           0.           0.\n",
      "     0.           0.           0.           0.           0.           0.\n",
      "     0.        ]\n",
      "  [  0.           0.60000247   1.047019     1.40084159   1.6893183\n",
      "     1.92744803   2.1242485    2.28557014   2.41539431   2.51650047\n",
      "     2.59083104   2.63970518   2.66394496]\n",
      "  [  0.           1.0479908    1.88223183   2.56202936   3.12398338\n",
      "     3.59122515   3.97897649   4.29763699   4.55450678   4.75477648\n",
      "     4.90211821   4.9990449    5.04712963]\n",
      "  [  0.           1.40472889   2.56688809   3.53606033   4.34836102\n",
      "     5.02949238   5.59779501   6.06649542   6.44521952   6.74098063\n",
      "     6.95881987   7.10222721   7.17339897]\n",
      "  [  0.           1.69903684   3.13953114   4.3619628    5.39890814\n",
      "     6.27558899   7.01121521   7.62032986   8.11389637   8.50010586\n",
      "     8.78495502   8.97264385   9.06584072]\n",
      "  [  0.           1.94688749   3.62523723   5.06835079   6.3047204\n",
      "     7.35773993   8.24614716   8.9847126    9.58492947  10.05559063\n",
      "    10.40324974  10.6325531   10.74647903]\n",
      "  [  0.           2.15827584   4.04117918   5.67648268   7.08888245\n",
      "     8.29950333   9.3259201   10.18244553  10.88051701  11.4290781\n",
      "    11.83489895  12.10284138  12.23604298]\n",
      "  [  0.           2.34003687   4.39972115   6.20251799   7.76982355\n",
      "     9.12047291  10.27058411  11.23363018  12.02061653  12.64030552\n",
      "    13.09942818  13.40287018  13.55380821]\n",
      "  [  0.           2.49715066   4.71015024   6.65904474   8.36242104\n",
      "     9.83697796  11.09731388  12.15587521  13.02301407  13.70709896\n",
      "    14.21463871  14.55040169  14.71751118]\n",
      "  [  0.           2.63341498   4.97968531   7.0560894    8.87883663\n",
      "    10.46270561  11.8208189   12.96454239  13.90346527  14.64543629\n",
      "    15.19662571  15.56158829  15.74332428]\n",
      "  [  0.           2.75182438   5.21408606   7.40179062   9.32913208\n",
      "    11.00918865  12.45371437  13.67300987  14.67586708  15.46955681\n",
      "    16.05983925  16.45100021  16.64587402]\n",
      "  [  0.           2.85479689   5.41804314   7.70285511   9.72171211\n",
      "    11.48620319  13.0068388   14.29291534  15.35243893  16.19208336\n",
      "    16.81717491  17.23169708  17.43829918]\n",
      "  [  0.           2.94431996   5.59543514   7.96487474  10.06365681\n",
      "    11.90207386  13.48952198  14.83437347  15.94388962  16.82416153\n",
      "    17.48007965  17.91531754  18.13232422]\n",
      "  [  0.           3.02204776   5.74950218   8.19255257  10.36096764\n",
      "    12.26391315  13.90980148  15.3061676   16.45958519  17.37559509\n",
      "    18.05866623  18.51216888  18.73835564]\n",
      "  [  0.           3.08936882   5.88297272   8.38986588  10.61874771\n",
      "    12.57781124  14.27460194  15.71591187  16.90768814  17.85496521\n",
      "    18.56182098  19.03133392  19.2655735 ]\n",
      "  [  0.           3.14745522   5.99815464   8.56018925  10.84134674\n",
      "    12.8489809   14.58988285  16.07018852  17.29528809  18.26975822\n",
      "    18.99731445  19.48077583  19.72203255]\n",
      "  [  0.           3.19729733   6.09700203   8.70638847  11.0324707\n",
      "    13.08188057  14.86076164  16.37467384  17.62851715  18.62646484\n",
      "    19.37190628  19.8674221   20.11474609]\n",
      "  [  0.           3.23973179   6.18116713   8.83089352  11.19526768\n",
      "    13.28030968  15.09160805  16.63422775  17.91264534  18.9306736\n",
      "    19.69142342  20.19726372  20.44978333]\n",
      "  [  0.           3.27546239   6.25204182   8.93575001  11.33239555\n",
      "    13.44748402  15.28613186  16.85298729  18.15215874  19.18716049\n",
      "    19.96085358  20.47542381  20.73233795]\n",
      "  [  0.           3.3050766    6.31078672   9.02266979  11.44608021\n",
      "    13.58609772  15.44744778  17.03442955  18.35084534  19.39995193\n",
      "    20.18440819  20.70623779  20.96681023]\n",
      "  [  0.           3.32905722   6.35835886   9.09306335  11.53815842\n",
      "    13.69837856  15.57813358  17.18143654  18.51184273  19.57239723\n",
      "    20.36558723  20.89331245  21.15685272]\n",
      "  [  0.           3.34779334   6.39552832   9.14806652  11.61010933\n",
      "    13.78612423  15.6802721   17.29634094  18.6376915   19.70720291\n",
      "    20.50723076  21.03957176  21.30543518]\n",
      "  [  0.           3.36158776   6.42289495   9.18856525  11.66308975\n",
      "    13.85073757  15.75548744  17.38096428  18.73038101  19.80649567\n",
      "    20.61156273  21.14730453  21.41488266]\n",
      "  [  0.           3.37066245   6.4408989    9.21520901  11.69794559\n",
      "    13.89324951  15.80497742  17.43664551  18.7913723   19.8718338\n",
      "    20.68021965  21.21820259  21.48690987]\n",
      "  [  0.           3.37516379   6.4498291    9.22842407  11.71523571\n",
      "    13.91433811  15.82952785  17.46426773  18.82162857  19.90424728\n",
      "    20.71428108  21.2533741   21.52264214]]]\n"
     ]
    }
   ],
   "source": [
    "print HEAD"
   ]
  },
  {
   "cell_type": "markdown",
   "metadata": {},
   "source": [
    "Write down the new mass balance information for this 1000 ft grid size run (or rename the *.list file).  Compare your previous result obtained with the 4000 foot grid size."
   ]
  },
  {
   "cell_type": "code",
   "execution_count": null,
   "metadata": {
    "collapsed": true
   },
   "outputs": [],
   "source": []
  },
  {
   "cell_type": "markdown",
   "metadata": {
    "collapsed": false
   },
   "source": [
    "# P5.1 Part e.\n",
    "\n",
    "Run your model with a nodal spacing of 500 ft and again with a nodal spacing of 250 ft. Compare head values and the volumetric discharge rate at the shoreline for all four nodal networks. Do you think a nodal spacing of 1000 ft is adequate for this problem? Justify your answer."
   ]
  },
  {
   "cell_type": "code",
   "execution_count": 35,
   "metadata": {
    "collapsed": false
   },
   "outputs": [
    {
     "name": "stdout",
     "output_type": "stream",
     "text": [
      "DELR = 500.0   DELC = 500.0   DELV = 50.0\n",
      "BOTM = [  0. -50.]\n",
      "Recharge = 0.00305\n"
     ]
    }
   ],
   "source": [
    "# Same as above but now 500 foot nodal spacing\n",
    "LX = 12500.   # same as before - half width of island + one node for constant head boundary condition\n",
    "LY = 24500.   # same as before - half height of island + one node for constant head boundary condition\n",
    "NLAY = 1\n",
    "NROW = 49\n",
    "NCOL =25\n",
    "DELR = LX / NCOL  # recall that MODFLOW convention is DELR is along a row, thus has items = NCOL; see page XXX in AW&H (2015)\n",
    "DELC = LY / NROW  # recall that MODFLOW convention is DELC is along a column, thus has items = NROW; see page XXX in AW&H (2015)\n",
    "DELV = (ZTOP - ZBOT) / NLAY\n",
    "BOTM = np.linspace(ZTOP, ZBOT, NLAY + 1)\n",
    "HK = 200.\n",
    "VKA = 1.\n",
    "RCH = 0.00305 \n",
    "# WELLQ = 0.   #not needed for Problem 5.1\n",
    "print \"DELR =\", DELR, \"  DELC =\", DELC, '  DELV =', DELV\n",
    "print \"BOTM =\", BOTM\n",
    "print \"Recharge =\", RCH "
   ]
  },
  {
   "cell_type": "code",
   "execution_count": 36,
   "metadata": {
    "collapsed": false
   },
   "outputs": [
    {
     "name": "stdout",
     "output_type": "stream",
     "text": [
      "****Warning -- two packages of the same type:  <class 'flopy.modflow.mfdis.ModflowDis'> <class 'flopy.modflow.mfdis.ModflowDis'>\n",
      "replacing existing Package...\n",
      "[[[-1 -1 -1 ..., -1 -1 -1]\n",
      "  [-1  1  1 ...,  1  1  1]\n",
      "  [-1  1  1 ...,  1  1  1]\n",
      "  ..., \n",
      "  [-1  1  1 ...,  1  1  1]\n",
      "  [-1  1  1 ...,  1  1  1]\n",
      "  [-1  1  1 ...,  1  1  1]]]\n"
     ]
    }
   ],
   "source": [
    "# Create the discretization object\n",
    "TOP = ZTOP * np.ones((NROW, NCOL),dtype=np.float)\n",
    "DIS_PACKAGE = flopy.modflow.ModflowDis(MF, NLAY, NROW, NCOL, delr=DELR, delc=DELC,\n",
    "                               top=TOP, botm=BOTM[1:], laycbd=0)\n",
    "# Variables for the BAS package\n",
    "IBOUND = np.ones((NLAY, NROW, NCOL), dtype=np.int32)  # all nodes are active (IBOUND = 1)\n",
    "\n",
    "# make the top of the profile specified head by setting the IBOUND = -1\n",
    "IBOUND[:, 0, :] = -1  #don't forget arrays are zero-based! Sets first row\n",
    "IBOUND[:, :, 0] = -1  # Sets first column\n",
    "print IBOUND"
   ]
  },
  {
   "cell_type": "code",
   "execution_count": 37,
   "metadata": {
    "collapsed": false
   },
   "outputs": [
    {
     "name": "stdout",
     "output_type": "stream",
     "text": [
      "[[[ 0.  0.  0. ...,  0.  0.  0.]\n",
      "  [ 0.  1.  1. ...,  1.  1.  1.]\n",
      "  [ 0.  1.  1. ...,  1.  1.  1.]\n",
      "  ..., \n",
      "  [ 0.  1.  1. ...,  1.  1.  1.]\n",
      "  [ 0.  1.  1. ...,  1.  1.  1.]\n",
      "  [ 0.  1.  1. ...,  1.  1.  1.]]]\n"
     ]
    }
   ],
   "source": [
    "STRT = 1 * np.ones((NLAY, NROW, NCOL), dtype=np.float32)  # set starting head to 1` through out model domain\n",
    "STRT[:, 0, :] = 0.       # top row ocean elevation for setting constant head\n",
    "STRT[:, :, 0] = 0.     # first column ocean elevation for setting constant head\n",
    "print STRT"
   ]
  },
  {
   "cell_type": "code",
   "execution_count": 38,
   "metadata": {
    "collapsed": false
   },
   "outputs": [
    {
     "name": "stdout",
     "output_type": "stream",
     "text": [
      "****Warning -- two packages of the same type:  <class 'flopy.modflow.mfbas.ModflowBas'> <class 'flopy.modflow.mfbas.ModflowBas'>\n",
      "replacing existing Package...\n",
      "Deleted:  P5-1.bas\n",
      "Deleted:  P5-1.cbc\n",
      "Deleted:  P5-1.ddn\n",
      "Deleted:  P5-1.dis\n",
      "Deleted:  P5-1.hds\n",
      "Deleted:  P5-1.list\n",
      "Deleted:  P5-1.lpf\n",
      "Deleted:  P5-1.nam\n",
      "Deleted:  P5-1.oc\n",
      "Deleted:  P5-1.pcg\n",
      "Deleted:  P5-1.rch\n",
      "New files written. You can check them in /Users/rjhunt1/GitHub/Chapter_5_problems-1/P5-1_Island_recharge\n",
      "FloPy is using the following executable to run the model: /Users/rjhunt1/GitHub/Chapter_5_problems-1/mf2005\n",
      "\n",
      "                                  MODFLOW-2005     \n",
      "    U.S. GEOLOGICAL SURVEY MODULAR FINITE-DIFFERENCE GROUND-WATER FLOW MODEL\n",
      "                             Version 1.11.00 8/8/2013                        \n",
      "\n",
      " Using NAME file: P5-1.nam \n",
      " Run start date and time (yyyy/mm/dd hh:mm:ss): 2015/09/23 12:59:30\n",
      "\n",
      " Solving:  Stress period:     1    Time step:     1    Ground-Water Flow Eqn.\n",
      " Run end date and time (yyyy/mm/dd hh:mm:ss): 2015/09/23 12:59:30\n",
      " Elapsed run time:  0.022 Seconds\n",
      "\n",
      "  Normal termination of simulation\n",
      "Headfile (P5-1.hds) contains the following list of times:  [1.0]\n",
      "Head statistics\n",
      "  min:  0.0\n",
      "  max:  20.7694\n",
      "  std:  6.32012\n"
     ]
    }
   ],
   "source": [
    "BAS_PACKAGE = flopy.modflow.ModflowBas(MF, ibound=IBOUND, strt=STRT)\n",
    "# print BAS_PACKAGE  # uncomment this at far left to see the information about the flopy BAS object\n",
    "#delete earlier files to prevent us from reading old results\n",
    "modelfiles = os.listdir(modelpath)\n",
    "for filename in modelfiles:\n",
    "    f = os.path.join(modelpath, filename)\n",
    "    if modelname in f:\n",
    "        try:\n",
    "            os.remove(f)\n",
    "            print 'Deleted: ', filename\n",
    "        except:\n",
    "            print 'Unable to delete: ', filename\n",
    "#Now write the model input files\n",
    "MF.write_input()\n",
    "# return current working directory\n",
    "print \"New files written. You can check them in\", modelpath\n",
    "#Run MODFLOW\n",
    "silent = False  #Print model output to screen?\n",
    "pause = False   #Require user to hit enter? Doesn't mean much in Ipython notebook\n",
    "report = True   #Store the output from the model in buff\n",
    "success, buff = MF.run_model(silent=silent, pause=pause, report=report)\n",
    "#imports for plotting and reading the MODFLOW binary output file\n",
    "import matplotlib.pyplot as plt\n",
    "import flopy.utils.binaryfile as bf\n",
    "\n",
    "#Create the headfile object and grab the results for last time.\n",
    "headfile = os.path.join(modelpath, modelname + '.hds')\n",
    "headfileobj = bf.HeadFile(headfile)\n",
    "\n",
    "#Get a list of times that are contained in the model\n",
    "times = headfileobj.get_times()\n",
    "print 'Headfile (' + modelname + '.hds' + ') contains the following list of times: ', times\n",
    "#Get a numpy array of heads for totim = 1.0\n",
    "#The get_data method will extract head data from the binary file.\n",
    "HEAD = headfileobj.get_data(totim=1.0)\n",
    "\n",
    "#Print statistics on the head\n",
    "print 'Head statistics'\n",
    "print '  min: ', HEAD.min()\n",
    "print '  max: ', HEAD.max()\n",
    "print '  std: ', HEAD.std()"
   ]
  },
  {
   "cell_type": "markdown",
   "metadata": {},
   "source": [
    "Note that the max head is getting closer to the analytical solution of 20 ft."
   ]
  },
  {
   "cell_type": "code",
   "execution_count": 39,
   "metadata": {
    "collapsed": false
   },
   "outputs": [
    {
     "name": "stdout",
     "output_type": "stream",
     "text": [
      "Contour Levels:  [  0.   5.  10.  15.  20.  25.]\n",
      "Extent of domain:  (250.0, 12250.0, 250.0, 24250.0)\n"
     ]
    },
    {
     "data": {
      "image/png": "[encoded data removed]",
      "text/plain": [
       "<matplotlib.figure.Figure at 0x106d59a90>"
      ]
     },
     "metadata": {},
     "output_type": "display_data"
    }
   ],
   "source": [
    "#Create a contour plot of heads\n",
    "FIG = plt.figure(figsize=(12,10))\n",
    "\n",
    "#setup contour levels and plot extent\n",
    "LEVELS = np.arange(0., 26., 5.)\n",
    "EXTENT = (DELR/2., LX - DELR/2., DELC/2., LY - DELC/2.)\n",
    "print 'Contour Levels: ', LEVELS\n",
    "print 'Extent of domain: ', EXTENT\n",
    "\n",
    "#Make a contour plot on the first axis\n",
    "AX1 = FIG.add_subplot(1, 2, 1, aspect='equal')\n",
    "AX1.set_xlabel(\"x\")\n",
    "AX1.set_ylabel(\"y\")\n",
    "YTICKS = np.arange(0, 28000, 4000)\n",
    "AX1.set_yticks(YTICKS)\n",
    "AX1.set_title(\"P5.1 Island Recharge Problem\")\n",
    "AX1.text(500, 10000, r\"side ocean boundary condition\", fontsize=10, color=\"blue\", rotation='vertical')\n",
    "AX1.text(4000, 23900, r\"top ocean boundary condition\", fontsize=10, color=\"blue\")\n",
    "AX1.contour(np.flipud(HEAD[0, :, :]), levels=LEVELS, extent=EXTENT)\n",
    "\n",
    "#Make a color flood on the second axis\n",
    "AX2 = FIG.add_subplot(1, 2, 2, aspect='equal')\n",
    "AX2.set_xlabel(\"x\")\n",
    "AX2.set_ylabel(\"y\")\n",
    "AX2.set_yticks(YTICKS)\n",
    "AX2.set_title(\"P5.1 color flood\")\n",
    "AX2.text(4000, 23900, r\"top ocean boundary condition\", fontsize=10, color=\"white\")\n",
    "AX2.text(400, 10500, r\"side ocean boundary condition\", fontsize=10, color=\"white\", rotation='vertical')\n",
    "cax = AX2.imshow(HEAD[0, :, :], extent=EXTENT, interpolation='nearest')\n",
    "cbar = FIG.colorbar(cax, orientation='vertical', shrink=0.45)"
   ]
  },
  {
   "cell_type": "markdown",
   "metadata": {},
   "source": [
    "Again write down the mass balance information from the *.list file for comparison to other grid sizes.  "
   ]
  },
  {
   "cell_type": "code",
   "execution_count": 40,
   "metadata": {
    "collapsed": false
   },
   "outputs": [
    {
     "name": "stdout",
     "output_type": "stream",
     "text": [
      "DELR = 250.0   DELC = 250.0   DELV = 50.0\n",
      "BOTM = [  0. -50.]\n",
      "Recharge = 0.00305\n"
     ]
    }
   ],
   "source": [
    "# Same as above but now 250 foot nodal spacing\n",
    "LX = 12250.   # same as before - half width of island + one node for constant head boundary condition\n",
    "LY = 24250.   # same as before - half height of island + one node for constant head boundary condition\n",
    "NLAY = 1\n",
    "NROW = 97\n",
    "NCOL =49\n",
    "DELR = LX / NCOL  # recall that MODFLOW convention is DELR is along a row, thus has items = NCOL; see page XXX in AW&H (2015)\n",
    "DELC = LY / NROW  # recall that MODFLOW convention is DELC is along a column, thus has items = NROW; see page XXX in AW&H (2015)\n",
    "DELV = (ZTOP - ZBOT) / NLAY\n",
    "BOTM = np.linspace(ZTOP, ZBOT, NLAY + 1)\n",
    "HK = 200.\n",
    "VKA = 1.\n",
    "RCH = 0.00305 \n",
    "# WELLQ = 0.   #not needed for Problem 5.1\n",
    "print \"DELR =\", DELR, \"  DELC =\", DELC, '  DELV =', DELV\n",
    "print \"BOTM =\", BOTM\n",
    "print \"Recharge =\", RCH "
   ]
  },
  {
   "cell_type": "code",
   "execution_count": 41,
   "metadata": {
    "collapsed": false
   },
   "outputs": [
    {
     "name": "stdout",
     "output_type": "stream",
     "text": [
      "****Warning -- two packages of the same type:  <class 'flopy.modflow.mfdis.ModflowDis'> <class 'flopy.modflow.mfdis.ModflowDis'>\n",
      "replacing existing Package...\n",
      "****Warning -- two packages of the same type:  <class 'flopy.modflow.mfbas.ModflowBas'> <class 'flopy.modflow.mfbas.ModflowBas'>\n",
      "replacing existing Package...\n",
      "Deleted:  P5-1.bas\n",
      "Deleted:  P5-1.cbc\n",
      "Deleted:  P5-1.ddn\n",
      "Deleted:  P5-1.dis\n",
      "Deleted:  P5-1.hds\n",
      "Deleted:  P5-1.list\n",
      "Deleted:  P5-1.lpf\n",
      "Deleted:  P5-1.nam\n",
      "Deleted:  P5-1.oc\n",
      "Deleted:  P5-1.pcg\n",
      "Deleted:  P5-1.rch\n",
      "New files written. You can check them in /Users/rjhunt1/GitHub/Chapter_5_problems-1/P5-1_Island_recharge\n",
      "FloPy is using the following executable to run the model: /Users/rjhunt1/GitHub/Chapter_5_problems-1/mf2005\n",
      "\n",
      "                                  MODFLOW-2005     \n",
      "    U.S. GEOLOGICAL SURVEY MODULAR FINITE-DIFFERENCE GROUND-WATER FLOW MODEL\n",
      "                             Version 1.11.00 8/8/2013                        \n",
      "\n",
      " Using NAME file: P5-1.nam \n",
      " Run start date and time (yyyy/mm/dd hh:mm:ss): 2015/09/23 12:59:31\n",
      "\n",
      " Solving:  Stress period:     1    Time step:     1    Ground-Water Flow Eqn.\n",
      " Run end date and time (yyyy/mm/dd hh:mm:ss): 2015/09/23 12:59:31\n",
      " Elapsed run time:  0.087 Seconds\n",
      "\n",
      "  Normal termination of simulation\n",
      "Headfile (P5-1.hds) contains the following list of times:  [1.0]\n",
      "Head statistics\n",
      "  min:  0.0\n",
      "  max:  20.3885\n",
      "  std:  6.12028\n"
     ]
    }
   ],
   "source": [
    "# Create the discretization object\n",
    "TOP = ZTOP * np.ones((NROW, NCOL),dtype=np.float)\n",
    "DIS_PACKAGE = flopy.modflow.ModflowDis(MF, NLAY, NROW, NCOL, delr=DELR, delc=DELC,\n",
    "                               top=TOP, botm=BOTM[1:], laycbd=0)\n",
    "# Variables for the BAS package\n",
    "IBOUND = np.ones((NLAY, NROW, NCOL), dtype=np.int32)  # all nodes are active (IBOUND = 1)\n",
    "\n",
    "# make the top of the profile specified head by setting the IBOUND = -1\n",
    "IBOUND[:, 0, :] = -1  #don't forget arrays are zero-based! Sets first row\n",
    "IBOUND[:, :, 0] = -1  # Sets first column\n",
    "STRT = 1 * np.ones((NLAY, NROW, NCOL), dtype=np.float32)  # set starting head to 1` through out model domain\n",
    "STRT[:, 0, :] = 0.       # top row ocean elevation for setting constant head\n",
    "STRT[:, :, 0] = 0.     # first column ocean elevation for setting constant head\n",
    "BAS_PACKAGE = flopy.modflow.ModflowBas(MF, ibound=IBOUND, strt=STRT)\n",
    "# print BAS_PACKAGE  # uncomment this at far left to see the information about the flopy BAS object\n",
    "#delete earlier files to prevent us from reading old results\n",
    "modelfiles = os.listdir(modelpath)\n",
    "for filename in modelfiles:\n",
    "    f = os.path.join(modelpath, filename)\n",
    "    if modelname in f:\n",
    "        try:\n",
    "            os.remove(f)\n",
    "            print 'Deleted: ', filename\n",
    "        except:\n",
    "            print 'Unable to delete: ', filename\n",
    "#Now write the model input files\n",
    "MF.write_input()\n",
    "# return current working directory\n",
    "print \"New files written. You can check them in\", modelpath\n",
    "#Run MODFLOW\n",
    "silent = False  #Print model output to screen?\n",
    "pause = False   #Require user to hit enter? Doesn't mean much in Ipython notebook\n",
    "report = True   #Store the output from the model in buff\n",
    "success, buff = MF.run_model(silent=silent, pause=pause, report=report)\n",
    "#imports for plotting and reading the MODFLOW binary output file\n",
    "import matplotlib.pyplot as plt\n",
    "import flopy.utils.binaryfile as bf\n",
    "\n",
    "#Create the headfile object and grab the results for last time.\n",
    "headfile = os.path.join(modelpath, modelname + '.hds')\n",
    "headfileobj = bf.HeadFile(headfile)\n",
    "\n",
    "#Get a list of times that are contained in the model\n",
    "times = headfileobj.get_times()\n",
    "print 'Headfile (' + modelname + '.hds' + ') contains the following list of times: ', times\n",
    "#Get a numpy array of heads for totim = 1.0\n",
    "#The get_data method will extract head data from the binary file.\n",
    "HEAD = headfileobj.get_data(totim=1.0)\n",
    "\n",
    "#Print statistics on the head\n",
    "print 'Head statistics'\n",
    "print '  min: ', HEAD.min()\n",
    "print '  max: ', HEAD.max()\n",
    "print '  std: ', HEAD.std()"
   ]
  },
  {
   "cell_type": "markdown",
   "metadata": {
    "collapsed": false
   },
   "source": [
    "Note that the max head is again getting closer to the analytical solution of 20 ft."
   ]
  },
  {
   "cell_type": "code",
   "execution_count": 42,
   "metadata": {
    "collapsed": false
   },
   "outputs": [
    {
     "name": "stdout",
     "output_type": "stream",
     "text": [
      "Contour Levels:  [  0.   5.  10.  15.  20.  25.]\n",
      "Extent of domain:  (125.0, 12125.0, 125.0, 24125.0)\n"
     ]
    },
    {
     "data": {
      "image/png": "[encoded data removed]",
      "text/plain": [
       "<matplotlib.figure.Figure at 0x1062b5690>"
      ]
     },
     "metadata": {},
     "output_type": "display_data"
    }
   ],
   "source": [
    "#Create a contour plot of heads\n",
    "FIG = plt.figure(figsize=(12,10))\n",
    "\n",
    "#setup contour levels and plot extent\n",
    "LEVELS = np.arange(0., 26., 5.)\n",
    "EXTENT = (DELR/2., LX - DELR/2., DELC/2., LY - DELC/2.)\n",
    "print 'Contour Levels: ', LEVELS\n",
    "print 'Extent of domain: ', EXTENT\n",
    "\n",
    "#Make a contour plot on the first axis\n",
    "AX1 = FIG.add_subplot(1, 2, 1, aspect='equal')\n",
    "AX1.set_xlabel(\"x\")\n",
    "AX1.set_ylabel(\"y\")\n",
    "YTICKS = np.arange(0, 28000, 4000)\n",
    "AX1.set_yticks(YTICKS)\n",
    "AX1.set_title(\"P5.1 Island Recharge Problem\")\n",
    "AX1.text(220, 10000, r\"side ocean boundary condition\", fontsize=10, color=\"blue\", rotation='vertical')\n",
    "AX1.text(4000, 23800, r\"top ocean boundary condition\", fontsize=10, color=\"blue\")\n",
    "AX1.contour(np.flipud(HEAD[0, :, :]), levels=LEVELS, extent=EXTENT)\n",
    "\n",
    "#Make a color flood on the second axis\n",
    "AX2 = FIG.add_subplot(1, 2, 2, aspect='equal')\n",
    "AX2.set_xlabel(\"x\")\n",
    "AX2.set_ylabel(\"y\")\n",
    "AX2.set_yticks(YTICKS)\n",
    "AX2.set_title(\"P5.1 color flood\")\n",
    "AX2.text(4000, 23800, r\"top ocean boundary condition\", fontsize=10, color=\"white\")\n",
    "AX2.text(200, 10000, r\"side ocean boundary condition\", fontsize=10, color=\"white\",rotation='vertical')\n",
    "cax = AX2.imshow(HEAD[0, :, :], extent=EXTENT, interpolation='nearest')\n",
    "cbar = FIG.colorbar(cax, orientation='vertical', shrink=0.45)"
   ]
  },
  {
   "cell_type": "markdown",
   "metadata": {
    "collapsed": false
   },
   "source": [
    "### Again write down the mass balance information from the *.list file for the 250 foot grid spacing. Compare all grid sizes.  "
   ]
  },
  {
   "cell_type": "code",
   "execution_count": null,
   "metadata": {
    "collapsed": true
   },
   "outputs": [],
   "source": []
  }
 ],
 "metadata": {
  "kernelspec": {
   "display_name": "Python 2",
   "language": "python",
   "name": "python2"
  },
  "language_info": {
   "codemirror_mode": {
    "name": "ipython",
    "version": 2
   },
   "file_extension": ".py",
   "mimetype": "text/x-python",
   "name": "python",
   "nbconvert_exporter": "python",
   "pygments_lexer": "ipython2",
   "version": "2.7.10"
  }
 },
 "nbformat": 4,
 "nbformat_minor": 0
}
